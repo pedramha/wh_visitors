{
 "cells": [
  {
   "cell_type": "code",
   "execution_count": 13,
   "metadata": {
    "collapsed": false
   },
   "outputs": [
    {
     "name": "stdout",
     "output_type": "stream",
     "text": [
      "2001 A Beautiful Mind\n"
     ]
    }
   ],
   "source": [
    "#Importing libraries \n",
    "import pandas as pd\n",
    "import imdb\n",
    "import matplotlib.pyplot as plt\n",
    "\n",
    "#Access IMDB data \n",
    "imdb_access = imdb.IMDb()\n",
    "\n",
    "#Reading Movie Earnings data (Source:American Statitistical Association)\n",
    "moviesData=pd.read_csv('D:/Uni-MS/DataEngineering/Project/MoviesEarnings.txt', delimiter=\"\t\")\n",
    "\n",
    "\n",
    "#Get Rating and YEAR of release for every movie in Movie Earnings data from IMDB data and write the data set in a csv file\n",
    "year_list = []\n",
    "rating_list = []\n",
    "director = []\n",
    "for movie in moviesData['MOVIE']:\n",
    "    movie_list = imdb_access.search_movie(movie) \n",
    "    year_list.append(movie_list[0]['year'])\n",
    "    imdb_access.update(movie_list[0], ['main', 'vote details'])\n",
    "    rating_list.append(movie_list[0].get('rating'))\n",
    "moviesData['YEAR'] = year_list  \n",
    "moviesData['RATING'] = rating_list \n",
    "#print moviesData\n",
    "print moviesData['YEAR'][0] , moviesData['MOVIE'][0]\n",
    "moviesData.to_csv('D:/Uni-MS/DataEngineering/Project/MoviesEarnings-Updated.csv',delimiter=\",\",index=False)\n",
    "\n",
    "#moviesData['A'] = Series(list(range(len(df))))\n",
    "\n",
    "\n"
   ]
  },
  {
   "cell_type": "code",
   "execution_count": 2,
   "metadata": {
    "collapsed": false
   },
   "outputs": [],
   "source": [
    "#Importing libraries\n",
    "import pandas as pd\n",
    "import numpy\n",
    "import imdb\n",
    "import matplotlib.pyplot as plt\n",
    "import seaborn\n",
    "from matplotlib.ticker import ScalarFormatter, FormatStrFormatter\n"
   ]
  },
  {
   "cell_type": "code",
   "execution_count": 3,
   "metadata": {
    "collapsed": false
   },
   "outputs": [],
   "source": [
    "#Reding update dataset after aggregating rating and year for all\n",
    "moviesData=pd.read_csv('D:/Uni-MS/DataEngineering/Project/MoviesEarnings-Updated.csv', delimiter=\",\")\n"
   ]
  },
  {
   "cell_type": "code",
   "execution_count": 10,
   "metadata": {
    "collapsed": false
   },
   "outputs": [
    {
     "name": "stdout",
     "output_type": "stream",
     "text": [
      "    NUMBER                                      MOVIE           TYPE   TOTAL  \\\n",
      "0        1                           A Beautiful Mind   Best Picture  170.71   \n",
      "1        2                            American Beauty   Best Picture  130.06   \n",
      "2        3                                     Batman  Biggest Gross  251.19   \n",
      "3        4                          Beverly Hills Cop  Biggest Gross  234.76   \n",
      "4        5                                    Chicago   Best Picture  170.69   \n",
      "5        6                                      Crash   Best Picture   55.33   \n",
      "6        7                              Departed, The   Best Picture  133.31   \n",
      "7        8                   Empire Strikes Back, The  Biggest Gross  290.27   \n",
      "8        9                                         ET  Biggest Gross  435.11   \n",
      "9       10                               Forrest Gump  Biggest Gross  329.69   \n",
      "10      11                              Ghost Busters  Biggest Gross  238.63   \n",
      "11      12                                  Gladiator   Best Picture  187.68   \n",
      "12      13                          Gods and Monsters       Sundance    6.45   \n",
      "13      14                             Good Girl, The       Sundance   14.02   \n",
      "14      15           Harry Potter 1: Sorcerer's Stone         Series  317.56   \n",
      "15      16         Harry Potter 2: Chamber of Secrets         Series  261.99   \n",
      "16      17        Harry Potter 3: Prisoner of Azkeban         Series  249.54   \n",
      "17      18             Harry Potter 4: Goblet of Fire         Series  290.01   \n",
      "18      19       Harry Potter 5: Order of the Phoenix         Series  292.00   \n",
      "19      20                                 Home Alone  Biggest Gross  285.76   \n",
      "20      21                      In the Company of Men       Sundance    2.88   \n",
      "21      22                           Independence Day  Biggest Gross  306.17   \n",
      "22      23                              Jurassic Park  Biggest Gross  357.07   \n",
      "23      24                            Last Mimzy, The       Sundance   21.47   \n",
      "24      25                             Lion King, The  Biggest Gross  312.86   \n",
      "25      26  Lord of the Rings: The Return of the King   Best Picture  377.03   \n",
      "26      27                        Million Dollar Baby   Best Picture  100.42   \n",
      "27      28        Pirates 1: Curse of the Black Pearl         Series  305.41   \n",
      "28      29                Pirates 2: Dead Man's Chest         Series  423.32   \n",
      "29      30                  Pirates 3: At World's End         Series  309.40   \n",
      "30      31                                Quinceanera       Sundance    1.69   \n",
      "31      32                    Raiders of the Lost Ark  Biggest Gross  242.37   \n",
      "32      33                         Return of the Jedi  Biggest Gross  309.21   \n",
      "33      34                             Road Home, The       Sundance    1.28   \n",
      "34      35                               Run Lola Run       Sundance    7.27   \n",
      "35      36                        Shakespeare in Love   Best Picture  100.32   \n",
      "36      37                                      Shrek         Series  267.65   \n",
      "37      38                                    Shrek 2         Series  436.72   \n",
      "38      39                            Shrek the Third         Series  321.01   \n",
      "39      40                                 Spider-Man         Series  403.71   \n",
      "40      41                               Spider-Man 2         Series  373.52   \n",
      "41      42                               Spider-Man 3         Series  336.53   \n",
      "42      45                              Super Size Me       Sundance   11.53   \n",
      "43      46                                   Thirteen       Sundance    4.60   \n",
      "44      47                                    Titanic   Best Picture  600.79   \n",
      "45      48                       Upside of Anger, The       Sundance   18.76   \n",
      "46      49                        You Can Count on Me       Sundance    9.18   \n",
      "\n",
      "    YEAR  RATING  \n",
      "0   2001     8.2  \n",
      "1   1999     8.4  \n",
      "2   1989     7.6  \n",
      "3   1984     7.3  \n",
      "4   2002     7.2  \n",
      "5   2004     7.9  \n",
      "6   2006     8.5  \n",
      "7   1992     8.3  \n",
      "8   1991     5.5  \n",
      "9   1994     8.8  \n",
      "10  1984     7.8  \n",
      "11  2000     8.5  \n",
      "12  1998     7.5  \n",
      "13  2002     6.5  \n",
      "14  2001     7.5  \n",
      "15  2002     7.4  \n",
      "16  2004     7.8  \n",
      "17  2005     7.6  \n",
      "18  2007     7.5  \n",
      "19  1990     7.5  \n",
      "20  1997     7.3  \n",
      "21  1996     6.9  \n",
      "22  1993     8.1  \n",
      "23  2007     6.3  \n",
      "24  1994     8.5  \n",
      "25  2014     NaN  \n",
      "26  2004     8.1  \n",
      "27  2003     8.1  \n",
      "28  2006     7.3  \n",
      "29  2007     7.1  \n",
      "30  2006     7.1  \n",
      "31  1981     8.5  \n",
      "32  1983     8.4  \n",
      "33  2016     NaN  \n",
      "34  1998     7.8  \n",
      "35  1998     7.2  \n",
      "36  2001     7.9  \n",
      "37  2004     7.2  \n",
      "38  2007     6.1  \n",
      "39  2002     7.3  \n",
      "40  2004     7.3  \n",
      "41  2007     6.2  \n",
      "42  2004     7.3  \n",
      "43  2003     6.8  \n",
      "44  1997     7.7  \n",
      "45  2005     6.9  \n",
      "46  2000     7.7  \n"
     ]
    }
   ],
   "source": [
    "print moviesData"
   ]
  },
  {
   "cell_type": "code",
   "execution_count": 11,
   "metadata": {
    "collapsed": false
   },
   "outputs": [
    {
     "name": "stdout",
     "output_type": "stream",
     "text": [
      "    NUMBER                     MOVIE           TYPE   TOTAL  YEAR  RATING\n",
      "31      32   Raiders of the Lost Ark  Biggest Gross  242.37  1981     8.5\n",
      "32      33        Return of the Jedi  Biggest Gross  309.21  1983     8.4\n",
      "3        4         Beverly Hills Cop  Biggest Gross  234.76  1984     7.3\n",
      "10      11             Ghost Busters  Biggest Gross  238.63  1984     7.8\n",
      "2        3                    Batman  Biggest Gross  251.19  1989     7.6\n",
      "19      20                Home Alone  Biggest Gross  285.76  1990     7.5\n",
      "7        8  Empire Strikes Back, The  Biggest Gross  290.27  1992     8.3\n",
      "22      23             Jurassic Park  Biggest Gross  357.07  1993     8.1\n",
      "9       10              Forrest Gump  Biggest Gross  329.69  1994     8.8\n",
      "24      25            Lion King, The  Biggest Gross  312.86  1994     8.5\n"
     ]
    }
   ],
   "source": [
    "#Plot for Best GRossers with movie vs total revenue of rating >7.0\n",
    "\n",
    "#read data with conditions of rating more than 7 and type: \"Biggest Gross\"\n",
    "best_grossers = moviesData[(moviesData['TYPE'] == 'Biggest Gross') & (moviesData['RATING']>7.0 )] \n",
    "#sort by year\n",
    "best_grossers = best_grossers.sort_values('YEAR')\n",
    "print best_grossers\n",
    "#Plot a bar graph b/w movie and total\n",
    "graph=best_grossers.plot(kind='bar',x='MOVIE',y='TOTAL')\n",
    "plt.xlabel(\"MOVIE\")\n",
    "plt.ylabel(\"Revenue in billion $\")\n",
    "plt.title(\"Bar Graph for biggest gross movie(Type:Biggest Grosser) with rating > 7.0\")\n",
    "plt.gcf().subplots_adjust(bottom=0.50)\n",
    "fig=graph.get_figure()\n",
    "fig.savefig('D:/Uni-MS/DataEngineering/Project/Graphs/MoviesBestGrosser-Movies-Revenue.png')\n",
    "#plt.close(fig)"
   ]
  },
  {
   "cell_type": "code",
   "execution_count": 17,
   "metadata": {
    "collapsed": false
   },
   "outputs": [
    {
     "name": "stdout",
     "output_type": "stream",
     "text": [
      "    NUMBER                     MOVIE           TYPE   TOTAL  YEAR  RATING\n",
      "42      43                 Star Wars  Biggest Gross  461.00  1977     8.7\n",
      "31      32   Raiders of the Lost Ark  Biggest Gross  242.37  1981     8.5\n",
      "32      33        Return of the Jedi  Biggest Gross  309.21  1983     8.4\n",
      "3        4         Beverly Hills Cop  Biggest Gross  234.76  1984     7.3\n",
      "10      11             Ghost Busters  Biggest Gross  238.63  1984     7.8\n",
      "2        3                    Batman  Biggest Gross  251.19  1989     7.6\n",
      "19      20                Home Alone  Biggest Gross  285.76  1990     7.5\n",
      "7        8  Empire Strikes Back, The  Biggest Gross  290.27  1992     8.3\n",
      "22      23             Jurassic Park  Biggest Gross  357.07  1993     8.1\n",
      "9       10              Forrest Gump  Biggest Gross  329.69  1994     8.8\n",
      "24      25            Lion King, The  Biggest Gross  312.86  1994     8.5\n"
     ]
    }
   ],
   "source": [
    "#Plot for Best GRossers with year vs total revenue of rating > 7.0\n",
    "\n",
    "#read data with conditions of rating more than 7 and type: \"Biggest Gross\"\n",
    "best_grossers = moviesData[(moviesData['TYPE'] == 'Biggest Gross') & (moviesData['RATING']>7.0 )] \n",
    "best_grossers = best_grossers.sort_values('YEAR')\n",
    "print best_grossers\n",
    "#Plot a bar graph b/w year and total\n",
    "graph=best_grossers.plot(kind='bar',x='YEAR',y='TOTAL')\n",
    "plt.xlabel(\"YEAR\")\n",
    "plt.ylabel(\"Revenue in billion $\")\n",
    "plt.title(\"Bar Graph for revenue by year for movies (Type:Biggest Grosser) rating > 7.0\")\n",
    "#plt.gcf().subplots_adjust(bottom=0.50)\n",
    "\n",
    "\n",
    "fig=graph.get_figure()\n",
    "fig.savefig('D:/Uni-MS/DataEngineering/Project/Graphs/MoviesBestGrosser-Year-Revenue.png')\n",
    "#plt.close(fig)"
   ]
  },
  {
   "cell_type": "code",
   "execution_count": 9,
   "metadata": {
    "collapsed": false
   },
   "outputs": [
    {
     "name": "stdout",
     "output_type": "stream",
     "text": [
      "    NUMBER                     MOVIE           TYPE   TOTAL  YEAR  RATING\n",
      "31      32   Raiders of the Lost Ark  Biggest Gross  242.37  1981     8.5\n",
      "32      33        Return of the Jedi  Biggest Gross  309.21  1983     8.4\n",
      "10      11             Ghost Busters  Biggest Gross  238.63  1984     7.8\n",
      "3        4         Beverly Hills Cop  Biggest Gross  234.76  1984     7.3\n",
      "2        3                    Batman  Biggest Gross  251.19  1989     7.6\n",
      "19      20                Home Alone  Biggest Gross  285.76  1990     7.5\n",
      "7        8  Empire Strikes Back, The  Biggest Gross  290.27  1992     8.3\n",
      "22      23             Jurassic Park  Biggest Gross  357.07  1993     8.1\n",
      "24      25            Lion King, The  Biggest Gross  312.86  1994     8.5\n",
      "9       10              Forrest Gump  Biggest Gross  329.69  1994     8.8\n",
      "44      47                   Titanic   Best Picture  600.79  1997     7.7\n",
      "35      36       Shakespeare in Love   Best Picture  100.32  1998     7.2\n",
      "1        2           American Beauty   Best Picture  130.06  1999     8.4\n",
      "11      12                 Gladiator   Best Picture  187.68  2000     8.5\n",
      "0        1          A Beautiful Mind   Best Picture  170.71  2001     8.2\n",
      "4        5                   Chicago   Best Picture  170.69  2002     7.2\n",
      "5        6                     Crash   Best Picture   55.33  2004     7.9\n",
      "26      27       Million Dollar Baby   Best Picture  100.42  2004     8.1\n",
      "6        7             Departed, The   Best Picture  133.31  2006     8.5\n"
     ]
    }
   ],
   "source": [
    "#Plot for Best GRossers OR Best Picture with year vs total revenue  with rating > 7.0\n",
    "\n",
    "\n",
    "#read data with conditions of rating more than 7 and type: \"Biggest Gross\" OR 'Best Picture'\n",
    "best_grossers = moviesData[((moviesData['TYPE'] == 'Biggest Gross') |  (moviesData['TYPE'] == 'Best Picture'))& (moviesData['RATING']>7.0 )] \n",
    "best_grossers = best_grossers.sort_values('YEAR')\n",
    "print best_grossers\n",
    "\n",
    "#Plot bar graph b/w year and total\n",
    "graph=best_grossers.plot(kind='bar',x='YEAR',y='TOTAL')\n",
    "plt.xlabel(\"MOVIE\")\n",
    "plt.ylabel(\"Revenue in billion $\")\n",
    "plt.title(\"Bar Graph for revenue by year for movies (Type:Biggest Grosser OR Best Picture) rating > 7.0\")\n",
    "#plt.gcf().subplots_adjust(bottom=0.50)\n",
    "fig=graph.get_figure()\n",
    "fig.savefig('D:/Uni-MS/DataEngineering/Project/Graphs/MoviesBest-Year-Revenue.png')\n",
    "#plt.close(fig)"
   ]
  },
  {
   "cell_type": "code",
   "execution_count": 1,
   "metadata": {
    "collapsed": false
   },
   "outputs": [
    {
     "ename": "NameError",
     "evalue": "name 'moviesData' is not defined",
     "output_type": "error",
     "traceback": [
      "\u001b[1;31m---------------------------------------------------------------------------\u001b[0m",
      "\u001b[1;31mNameError\u001b[0m                                 Traceback (most recent call last)",
      "\u001b[1;32m<ipython-input-1-34f5c20c3125>\u001b[0m in \u001b[0;36m<module>\u001b[1;34m()\u001b[0m\n\u001b[0;32m      1\u001b[0m \u001b[1;31m#Code for Regression plot for Biggest Gross Movie : year vs Revenue\u001b[0m\u001b[1;33m\u001b[0m\u001b[1;33m\u001b[0m\u001b[0m\n\u001b[0;32m      2\u001b[0m \u001b[1;33m\u001b[0m\u001b[0m\n\u001b[1;32m----> 3\u001b[1;33m \u001b[0mbest_grossers\u001b[0m \u001b[1;33m=\u001b[0m \u001b[0mmoviesData\u001b[0m\u001b[1;33m[\u001b[0m\u001b[1;33m(\u001b[0m\u001b[0mmoviesData\u001b[0m\u001b[1;33m[\u001b[0m\u001b[1;34m'TYPE'\u001b[0m\u001b[1;33m]\u001b[0m \u001b[1;33m==\u001b[0m \u001b[1;34m'Biggest Gross'\u001b[0m\u001b[1;33m)\u001b[0m \u001b[1;33m&\u001b[0m \u001b[1;33m(\u001b[0m\u001b[0mmoviesData\u001b[0m\u001b[1;33m[\u001b[0m\u001b[1;34m'RATING'\u001b[0m\u001b[1;33m]\u001b[0m\u001b[1;33m>\u001b[0m\u001b[1;36m7.0\u001b[0m \u001b[1;33m)\u001b[0m\u001b[1;33m]\u001b[0m\u001b[1;33m\u001b[0m\u001b[0m\n\u001b[0m\u001b[0;32m      4\u001b[0m \u001b[0mbest_grossers\u001b[0m \u001b[1;33m=\u001b[0m \u001b[0mbest_grossers\u001b[0m\u001b[1;33m.\u001b[0m\u001b[0msort_values\u001b[0m\u001b[1;33m(\u001b[0m\u001b[1;34m'YEAR'\u001b[0m\u001b[1;33m)\u001b[0m\u001b[1;33m\u001b[0m\u001b[0m\n\u001b[0;32m      5\u001b[0m \u001b[1;32mprint\u001b[0m \u001b[0mbest_grossers\u001b[0m\u001b[1;33m\u001b[0m\u001b[0m\n",
      "\u001b[1;31mNameError\u001b[0m: name 'moviesData' is not defined"
     ]
    }
   ],
   "source": [
    "#Code for Regression plot for Biggest Gross Movie : year vs Revenue\n",
    "\n",
    "#read data with conditions of rating more than 7 and type: \"Biggest Gross\" OR 'Best Picture'\n",
    "best_grossers = moviesData[(moviesData['TYPE'] == 'Biggest Gross') & (moviesData['RATING']>7.0 )] \n",
    "best_grossers = best_grossers.sort_values('YEAR')\n",
    "print best_grossers\n",
    "\n",
    "#Regression Scatter plot b/w year and total revenue\n",
    "scat = seaborn.regplot(x='YEAR',y='TOTAL',data=best_grossers)\n",
    "plt.xlabel(\"YEAR\")\n",
    "plt.ylabel(\"Revenue in billion $\")\n",
    "plt.title(\"Scatter plot for biggest gross movie with rating > 7.0 in different year\")\n",
    "\n",
    "fig=scat.get_figure()\n",
    "fig.savefig('D:/Uni-MS/DataEngineering/Project/MoviesBestGrosserFigureReg.png')\n",
    "plt.close(fig)"
   ]
  },
  {
   "cell_type": "code",
   "execution_count": null,
   "metadata": {
    "collapsed": false
   },
   "outputs": [],
   "source": []
  },
  {
   "cell_type": "code",
   "execution_count": 3,
   "metadata": {
    "collapsed": false
   },
   "outputs": [
    {
     "name": "stdout",
     "output_type": "stream",
     "text": [
      "    NUMBER                     MOVIE           TYPE   TOTAL  YEAR  RATING\n",
      "31      32   Raiders of the Lost Ark  Biggest Gross  242.37  1981     8.5\n",
      "32      33        Return of the Jedi  Biggest Gross  309.21  1983     8.4\n",
      "3        4         Beverly Hills Cop  Biggest Gross  234.76  1984     7.3\n",
      "10      11             Ghost Busters  Biggest Gross  238.63  1984     7.8\n",
      "2        3                    Batman  Biggest Gross  251.19  1989     7.6\n",
      "19      20                Home Alone  Biggest Gross  285.76  1990     7.5\n",
      "7        8  Empire Strikes Back, The  Biggest Gross  290.27  1992     8.3\n",
      "22      23             Jurassic Park  Biggest Gross  357.07  1993     8.1\n",
      "9       10              Forrest Gump  Biggest Gross  329.69  1994     8.8\n",
      "24      25            Lion King, The  Biggest Gross  312.86  1994     8.5\n"
     ]
    }
   ],
   "source": [
    "#Code for Regression plot \n",
    "\n",
    "\n",
    "#read data with conditions of rating more than 7 and type: \"Biggest Gross\" OR 'Best Picture'\n",
    "best_grossers = moviesData[(moviesData['TYPE'] == 'Biggest Gross') & (moviesData['RATING']>7.0 )] \n",
    "best_grossers = best_grossers.sort_values('YEAR')\n",
    "print best_grossers\n",
    "\n",
    "#Regression scatter Plot for year vs Total\n",
    "scat = seaborn.regplot(x='YEAR',y='TOTAL',data=best_grossers)\n",
    "plt.xlabel(\"YEAR\")\n",
    "plt.ylabel(\"Revenue in billion $\")\n",
    "plt.title(\"Scatter plot for biggest gross movie with rating > 7.0 in different year\")\n",
    "\n",
    "fig=scat.get_figure()\n",
    "fig.savefig('D:/Uni-MS/DataEngineering/Project/MoviesBestGrosserFigureReg.png')\n",
    "plt.close(fig)"
   ]
  },
  {
   "cell_type": "code",
   "execution_count": null,
   "metadata": {
    "collapsed": true
   },
   "outputs": [],
   "source": []
  },
  {
   "cell_type": "code",
   "execution_count": 4,
   "metadata": {
    "collapsed": false
   },
   "outputs": [],
   "source": [
    "#Trend for Rating on differnt Movie series \n",
    "\n",
    "#Get data for different movie series\n",
    "happy_potter_data = moviesData[moviesData['MOVIE'].str.contains(\"Harry Potter\")]\n",
    "pirates_data = moviesData[moviesData['MOVIE'].str.contains(\"Pirates\")]\n",
    "shrek_data = moviesData[moviesData['MOVIE'].str.contains(\"Shrek\")]\n",
    "spider_man_data = moviesData[moviesData['MOVIE'].str.contains(\"Spider-Man\")]\n",
    "#print spider_man_data\n",
    "plt.clf()\n",
    "fig, ax = plt.subplots()\n",
    "\n",
    "\n",
    "#Plot graphs for all the series \n",
    "plt.plot(happy_potter_data['YEAR'], happy_potter_data['RATING'], marker='o')\n",
    "plt.plot(pirates_data['YEAR'], pirates_data['RATING'], marker='o')\n",
    "plt.plot(shrek_data['YEAR'], shrek_data['RATING'], marker='o')\n",
    "plt.plot(spider_man_data['YEAR'], spider_man_data['RATING'], marker='o')\n",
    "\n",
    "plt.legend(['Harry Potter', ' Pirates Series ', 'Shrek Series', 'Spider Man'], loc='upper left')\n",
    "#plt.xlabel(\"YEAR\")\n",
    "plt.ylabel(\"RATING\")\n",
    "plt.title(\"Trend Plot for Rating on different Movie Series\")\n",
    "ax.ticklabel_format(useOffset=False)\n",
    "\n",
    "plt.savefig('D:/Uni-MS/DataEngineering/Project/Graphs/MoviesSeriesFigureTrend.png')\n",
    "plt.clf()\n",
    "plt.close()\n",
    "\n"
   ]
  },
  {
   "cell_type": "code",
   "execution_count": null,
   "metadata": {
    "collapsed": true
   },
   "outputs": [],
   "source": []
  },
  {
   "cell_type": "code",
   "execution_count": null,
   "metadata": {
    "collapsed": false
   },
   "outputs": [],
   "source": []
  },
  {
   "cell_type": "code",
   "execution_count": null,
   "metadata": {
    "collapsed": true
   },
   "outputs": [],
   "source": []
  },
  {
   "cell_type": "code",
   "execution_count": null,
   "metadata": {
    "collapsed": true
   },
   "outputs": [],
   "source": []
  }
 ],
 "metadata": {
  "kernelspec": {
   "display_name": "Python 2",
   "language": "python",
   "name": "python2"
  },
  "language_info": {
   "codemirror_mode": {
    "name": "ipython",
    "version": 2
   },
   "file_extension": ".py",
   "mimetype": "text/x-python",
   "name": "python",
   "nbconvert_exporter": "python",
   "pygments_lexer": "ipython2",
   "version": "2.7.11"
  }
 },
 "nbformat": 4,
 "nbformat_minor": 0
}
