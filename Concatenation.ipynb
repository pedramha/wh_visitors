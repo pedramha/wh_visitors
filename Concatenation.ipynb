{
 "cells": [
  {
   "cell_type": "code",
   "execution_count": 1,
   "metadata": {
    "collapsed": false
   },
   "outputs": [
    {
     "name": "stderr",
     "output_type": "stream",
     "text": [
      "C:\\Users\\Pedram\\Anaconda2\\lib\\site-packages\\pandas\\computation\\__init__.py:19: UserWarning: The installed version of numexpr 2.4.4 is not supported in pandas and will be not be used\n",
      "\n",
      "  UserWarning)\n",
      "C:\\Users\\Pedram\\Anaconda2\\lib\\site-packages\\pandas\\computation\\__init__.py:19: UserWarning: The installed version of numexpr 2.4.4 is not supported in pandas and will be not be used\n",
      "\n",
      "  UserWarning)\n"
     ]
    }
   ],
   "source": [
    "#concatnating all datasets regarding whitehouse\n",
    "import os\n",
    "import glob\n",
    "import pandas"
   ]
  },
  {
   "cell_type": "code",
   "execution_count": 2,
   "metadata": {
    "collapsed": false
   },
   "outputs": [],
   "source": [
    "#takes all the csv files in the respective folder and returns one single concatenated csv file\n",
    "def concatenate(indir=\"C:\\\\DE\\\\Sep\",outfile=\"C:\\\\DE\\\\Ens\\\\Bigfile.csv\"):\n",
    "        os.chdir(indir)\n",
    "        fileList=glob.glob(\"*.csv\")\n",
    "        dfList=[]\n",
    "        colnames=[\"ind\",\"App_Made_Date\",\"Total_People\"]\n",
    "        for filename in fileList:\n",
    "            print(filename)\n",
    "            df=pandas.read_csv(filename,header=None)\n",
    "            dfList.append(df)\n",
    "        \n",
    "        concatDf=pandas.concat(dfList,axis=0)\n",
    "        concatDf.columns=colnames\n",
    "        concatDf.to_csv(outfile,index=None)        \n",
    "            "
   ]
  },
  {
   "cell_type": "code",
   "execution_count": 3,
   "metadata": {
    "collapsed": false
   },
   "outputs": [
    {
     "name": "stdout",
     "output_type": "stream",
     "text": [
      "Cleaneddf0910.csv\n",
      "Cleaneddf11p1.csvCleaneddf0910.csv\n",
      "Cleaneddf11p1.csv\n",
      "Cleaneddf11p2.csv\n",
      "Cleaneddf11p2.csv\n",
      "Cleaneddf12.csv\n",
      "Cleaneddf13.csv\n",
      "Cleaneddf14.csv\n",
      "Cleaneddf12.csv\n",
      "Cleaneddf13.csv\n",
      "Cleaneddf14.csv\n",
      "Cleaneddf15.csv\n",
      "Cleaneddf16.csv\n",
      "Cleaneddf15.csv\n",
      "Cleaneddf16.csv\n",
      "\n"
     ]
    }
   ],
   "source": [
    "concatenate()"
   ]
  },
  {
   "cell_type": "code",
   "execution_count": null,
   "metadata": {
    "collapsed": true
   },
   "outputs": [],
   "source": []
  }
 ],
 "metadata": {
  "kernelspec": {
   "display_name": "Python 2",
   "language": "python",
   "name": "python2"
  },
  "language_info": {
   "codemirror_mode": {
    "name": "ipython",
    "version": 2
   },
   "file_extension": ".py",
   "mimetype": "text/x-python",
   "name": "python",
   "nbconvert_exporter": "python",
   "pygments_lexer": "ipython2",
   "version": "2.7.11"
  }
 },
 "nbformat": 4,
 "nbformat_minor": 0
}
