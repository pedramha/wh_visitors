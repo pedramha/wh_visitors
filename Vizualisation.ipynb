{
 "cells": [
  {
   "cell_type": "code",
   "execution_count": null,
   "metadata": {
    "collapsed": false
   },
   "outputs": [],
   "source": [
    "#visualization\n",
    "import pandas as pd\n",
    "import matplotlib.pyplot as plt\n",
    "import matplotlib.patches as mpatches\n",
    "%matplotlib inline"
   ]
  },
  {
   "cell_type": "code",
   "execution_count": null,
   "metadata": {
    "collapsed": true
   },
   "outputs": [],
   "source": [
    "#reading the integrated dataset\n",
    "ds=pd.read_csv('Bigfile.csv', delimiter=\",\", low_memory=False)"
   ]
  },
  {
   "cell_type": "code",
   "execution_count": null,
   "metadata": {
    "collapsed": false
   },
   "outputs": [],
   "source": [
    "ds.head()"
   ]
  },
  {
   "cell_type": "code",
   "execution_count": null,
   "metadata": {
    "collapsed": false
   },
   "outputs": [],
   "source": [
    "df=pd.DataFrame(ds)"
   ]
  },
  {
   "cell_type": "code",
   "execution_count": null,
   "metadata": {
    "collapsed": false
   },
   "outputs": [],
   "source": [
    "#removing the index column that was saved in the cleansing section\n",
    "del df['ind']"
   ]
  },
  {
   "cell_type": "code",
   "execution_count": null,
   "metadata": {
    "collapsed": false
   },
   "outputs": [],
   "source": [
    "#droping missing values\n",
    "df.dropna(subset=['APPT_MADE_DATE'])\n",
    "df.dropna(subset=['Total_People'])"
   ]
  },
  {
   "cell_type": "code",
   "execution_count": null,
   "metadata": {
    "collapsed": false
   },
   "outputs": [],
   "source": [
    "#assigning datatypes to respective columns\n",
    "df['APPT_MADE_DATE']=pd.to_datetime(df['APPT_MADE_DATE'],errors='coerce')\n",
    "df['Total_People']=pd.to_numeric(df['Total_People'],errors='coerce')"
   ]
  },
  {
   "cell_type": "code",
   "execution_count": null,
   "metadata": {
    "collapsed": true
   },
   "outputs": [],
   "source": [
    "#Vizualisation for Cuba Agreement\n",
    "#first we select 6 months before and 6 months after the incident then then we perform our vizualisation\n",
    "maskcuba = (df['APPT_MADE_DATE'] > '2015-2-20') & (df['APPT_MADE_DATE'] <= '2016-2-20')\n",
    "dfCuba=(df.loc[maskcuba])\n",
    "grouped=dfCuba.groupby('APPT_MADE_DATE',axis=0).sum()"
   ]
  },
  {
   "cell_type": "code",
   "execution_count": null,
   "metadata": {
    "collapsed": false,
    "scrolled": true
   },
   "outputs": [],
   "source": [
    "#performing vizualisation algorithm and saving the jpg file\n",
    "#the axvspan function makes an emphesize on the month in which the event occurred\n",
    "plt=grouped.plot()\n",
    "plt.axvspan('2015-6-30', '2015-7-30', color='red', alpha=0.5)\n",
    "plt.set_xlabel('')\n",
    "fig=plt.get_figure()\n",
    "fig.autofmt_xdate()\n",
    "fig.set_figwidth(12)\n",
    "fig.set_figheight(8)\n",
    "fig.suptitle('Cuba Agreement', fontsize=20)\n",
    "red_patch = mpatches.Patch(color='blue', label='Number of People')\n",
    "red_patch2 = mpatches.Patch(color='red', label='Timespan of Event',alpha=0.5)\n",
    "plt.legend(handles=[red_patch,red_patch2])\n",
    "fig.savefig('CubaAgreeement.jpg')"
   ]
  },
  {
   "cell_type": "code",
   "execution_count": null,
   "metadata": {
    "collapsed": true
   },
   "outputs": [],
   "source": [
    "#Vizualisation for Bin Laden's Death\n",
    "#first we select 6 months before and 6 months after the incident then then we perform our vizualisation\n",
    "maskbin = (df['APPT_MADE_DATE'] > '2010-11-2') & (df['APPT_MADE_DATE'] <= '2011-11-2')\n",
    "maskbin=(df.loc[maskbin])\n",
    "groupedbin=maskbin.groupby('APPT_MADE_DATE',axis=0).sum()"
   ]
  },
  {
   "cell_type": "code",
   "execution_count": null,
   "metadata": {
    "collapsed": false
   },
   "outputs": [],
   "source": [
    "#performing vizualisation algorithm and saving the jpg file\n",
    "plt=groupedbin.plot()\n",
    "plt.axvspan('2011-5-1', '2011-5-30', color='red', alpha=0.5)\n",
    "plt.set_xlabel('')\n",
    "fig=plt.get_figure()\n",
    "fig.autofmt_xdate()\n",
    "fig.set_figwidth(12)\n",
    "fig.set_figheight(8)\n",
    "fig.suptitle('Bin Ladens Death', fontsize=20)\n",
    "red_patch = mpatches.Patch(color='blue', label='Number of People')\n",
    "red_patch2 = mpatches.Patch(color='red', label='Timespan of Event',alpha=0.5)\n",
    "plt.legend(handles=[red_patch,red_patch2])\n",
    "fig.savefig('BinLaden.jpg')"
   ]
  },
  {
   "cell_type": "code",
   "execution_count": null,
   "metadata": {
    "collapsed": true
   },
   "outputs": [],
   "source": [
    "#Vizualisation for Argo movie\n",
    "#first we select 6 months before and 6 months after the incident then then we perform our vizualisation\n",
    "maskArgo = (df['APPT_MADE_DATE'] > '2012-5-9') & (df['APPT_MADE_DATE'] <= '2013-5-9')\n",
    "maskArgo=(df.loc[maskArgo])\n",
    "groupedArgo=maskArgo.groupby('APPT_MADE_DATE',axis=0).sum()"
   ]
  },
  {
   "cell_type": "code",
   "execution_count": null,
   "metadata": {
    "collapsed": false
   },
   "outputs": [],
   "source": [
    "#performing vizualisation algorithm and saving the jpg file\n",
    "#the axvspan function makes an emphesize on the month in which the event occurred\n",
    "plt=groupedArgo.plot()\n",
    "plt.axvspan('2012-11-1', '2012-11-30', color='red', alpha=0.5)\n",
    "plt.set_xlabel('')\n",
    "fig=plt.get_figure()\n",
    "fig.autofmt_xdate()\n",
    "fig.set_figwidth(12)\n",
    "fig.set_figheight(8)\n",
    "fig.suptitle('Argo Movie', fontsize=20)\n",
    "red_patch = mpatches.Patch(color='blue', label='Number of People')\n",
    "red_patch2 = mpatches.Patch(color='red', label='Timespan of Event',alpha=0.5)\n",
    "plt.legend(handles=[red_patch,red_patch2])\n",
    "fig.savefig('Argo.jpg')"
   ]
  },
  {
   "cell_type": "code",
   "execution_count": null,
   "metadata": {
    "collapsed": true
   },
   "outputs": [],
   "source": [
    "#Vizualisation for Homosexual Marriage Law\n",
    "#first we select 6 months before and 6 months after the incident then then we perform our vizualisation\n",
    "maskmarriage = (df['APPT_MADE_DATE'] > '2015-1-1') & (df['APPT_MADE_DATE'] <= '2015-12-28')\n",
    "dfmarriage=(df.loc[maskmarriage])\n",
    "grouped=dfmarriage.groupby('APPT_MADE_DATE',axis=0).sum()"
   ]
  },
  {
   "cell_type": "code",
   "execution_count": null,
   "metadata": {
    "collapsed": false
   },
   "outputs": [],
   "source": [
    "#performing vizualisation algorithm and saving the jpg file\n",
    "#the axvspan function makes an emphesize on the month in which the event occurred\n",
    "plt=grouped.plot()\n",
    "plt.axvspan('2015-6-1', '2015-6-30', color='red', alpha=0.5)\n",
    "plt.set_xlabel('')\n",
    "fig=plt.get_figure()\n",
    "fig.autofmt_xdate()\n",
    "fig.set_figwidth(12)\n",
    "fig.set_figheight(8)\n",
    "fig.suptitle('Same-Sex Marriage', fontsize=20)\n",
    "red_patch = mpatches.Patch(color='blue', label='Number of People')\n",
    "red_patch2 = mpatches.Patch(color='red', label='Timespan of Event',alpha=0.5)\n",
    "plt.legend(handles=[red_patch,red_patch2])\n",
    "fig.savefig('Same-Sex Marriage.jpg')"
   ]
  },
  {
   "cell_type": "code",
   "execution_count": null,
   "metadata": {
    "collapsed": true
   },
   "outputs": [],
   "source": [
    "#Vizualisation for American Sniper Movie\n",
    "#first we select 6 months before and 6 months after the incident then then we perform our vizualisation\n",
    "masksnipe = (df['APPT_MADE_DATE'] > '2014-5-1') & (df['APPT_MADE_DATE'] <= '2015-5-30')\n",
    "dfsnipe=(df.loc[masksnipe])\n",
    "grouped=dfsnipe.groupby('APPT_MADE_DATE',axis=0).sum()"
   ]
  },
  {
   "cell_type": "code",
   "execution_count": null,
   "metadata": {
    "collapsed": false
   },
   "outputs": [],
   "source": [
    "#performing vizualisation algorithm and saving the jpg file\n",
    "#the axvspan function makes an emphesize on the month in which the event occurred\n",
    "plt=grouped.plot()\n",
    "plt.axvspan('2014-11-1', '2014-11-30', color='red', alpha=0.5)\n",
    "plt.set_xlabel('')\n",
    "fig=plt.get_figure()\n",
    "fig.autofmt_xdate()\n",
    "fig.set_figwidth(12)\n",
    "fig.set_figheight(8)\n",
    "fig.suptitle('Amercian Sniper', fontsize=20)\n",
    "red_patch = mpatches.Patch(color='blue', label='Number of People')\n",
    "red_patch2 = mpatches.Patch(color='red', label='Timespan of Event',alpha=0.5)\n",
    "plt.legend(handles=[red_patch,red_patch2])\n",
    "fig.savefig('Amercian Sniper.jpg')"
   ]
  },
  {
   "cell_type": "code",
   "execution_count": null,
   "metadata": {
    "collapsed": true
   },
   "outputs": [],
   "source": [
    "#Vizualisation for Zero Dark Thirty(movie)\n",
    "#first we select 6 months before and 6 months after the incident then then we perform our vizualisation\n",
    "maskzero = (df['APPT_MADE_DATE'] > '2012-6-1') & (df['APPT_MADE_DATE'] <= '2013-6-30')\n",
    "dfzero=(df.loc[maskzero])\n",
    "grouped=dfzero.groupby('APPT_MADE_DATE',axis=0).sum()"
   ]
  },
  {
   "cell_type": "code",
   "execution_count": null,
   "metadata": {
    "collapsed": false
   },
   "outputs": [],
   "source": [
    "#performing vizualisation algorithm and saving the jpg file\n",
    "#the axvspan function makes an emphesize on the month in which the event occurred\n",
    "plt=grouped.plot()\n",
    "plt.axvspan('2012-12-1', '2012-12-30', color='red', alpha=0.5)\n",
    "plt.set_xlabel('')\n",
    "fig=plt.get_figure()\n",
    "fig.autofmt_xdate()\n",
    "fig.set_figwidth(12)\n",
    "fig.set_figheight(8)\n",
    "fig.suptitle('Zero Dark Thirty', fontsize=20)\n",
    "red_patch = mpatches.Patch(color='blue', label='Number of People')\n",
    "red_patch2 = mpatches.Patch(color='red', label='Timespan of Event',alpha=0.5)\n",
    "plt.legend(handles=[red_patch,red_patch2])\n",
    "fig.savefig('Zero Dark Thirty.jpg')"
   ]
  },
  {
   "cell_type": "code",
   "execution_count": null,
   "metadata": {
    "collapsed": true
   },
   "outputs": [],
   "source": [
    "#Vizualisation for Lincoln Zero Dark Thirty(movie)\n",
    "#first we select 6 months before and 6 months after the incident then then we perform our vizualisation\n",
    "maskLincoln = (df['APPT_MADE_DATE'] > '2012-4-1') & (df['APPT_MADE_DATE'] <= '2013-4-30')\n",
    "dfLincoln=(df.loc[maskLincoln])\n",
    "grouped=dfLincoln.groupby('APPT_MADE_DATE',axis=0).sum()"
   ]
  },
  {
   "cell_type": "code",
   "execution_count": null,
   "metadata": {
    "collapsed": false
   },
   "outputs": [],
   "source": [
    "#performing vizualisation algorithm and saving the jpg file\n",
    "#the axvspan function makes an emphesize on the month in which the event occurred\n",
    "plt=grouped.plot()\n",
    "plt.axvspan('2012-10-1', '2012-10-30', color='red', alpha=0.5)\n",
    "plt.set_xlabel('')\n",
    "fig=plt.get_figure()\n",
    "fig.autofmt_xdate()\n",
    "fig.set_figwidth(12)\n",
    "fig.set_figheight(8)\n",
    "fig.suptitle('Lincoln', fontsize=20)\n",
    "red_patch = mpatches.Patch(color='blue', label='Number of People')\n",
    "red_patch2 = mpatches.Patch(color='red', label='Timespan of Event',alpha=0.5)\n",
    "plt.legend(handles=[red_patch,red_patch2])\n",
    "fig.savefig('Lincoln.jpg')"
   ]
  },
  {
   "cell_type": "code",
   "execution_count": null,
   "metadata": {
    "collapsed": true
   },
   "outputs": [],
   "source": []
  }
 ],
 "metadata": {
  "kernelspec": {
   "display_name": "Python 2",
   "language": "python",
   "name": "python2"
  },
  "language_info": {
   "codemirror_mode": {
    "name": "ipython",
    "version": 2
   },
   "file_extension": ".py",
   "mimetype": "text/x-python",
   "name": "python",
   "nbconvert_exporter": "python",
   "pygments_lexer": "ipython2",
   "version": "2.7.11"
  }
 },
 "nbformat": 4,
 "nbformat_minor": 0
}
