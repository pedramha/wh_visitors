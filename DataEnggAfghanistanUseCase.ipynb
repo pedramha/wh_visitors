{
 "cells": [
  {
   "cell_type": "code",
   "execution_count": 1,
   "metadata": {
    "collapsed": true
   },
   "outputs": [],
   "source": [
    "#importing libraries used with reference variable name \n",
    "import pandas as pd\n",
    "import matplotlib.pyplot as plt\n",
    "import seaborn"
   ]
  },
  {
   "cell_type": "code",
   "execution_count": 3,
   "metadata": {
    "collapsed": false
   },
   "outputs": [
    {
     "name": "stdout",
     "output_type": "stream",
     "text": [
      "0               Gross domestic product, constant prices\n",
      "1               Gross domestic product, constant prices\n",
      "2                Gross domestic product, current prices\n",
      "3                Gross domestic product, current prices\n",
      "4                      Gross domestic product, deflator\n",
      "5     Gross domestic product per capita, constant pr...\n",
      "6     Gross domestic product per capita, current prices\n",
      "7     Gross domestic product per capita, current prices\n",
      "8     Gross domestic product based on purchasing-pow...\n",
      "9     Gross domestic product based on purchasing-pow...\n",
      "10    Gross domestic product based on purchasing-pow...\n",
      "11                          Implied PPP conversion rate\n",
      "12                                     Total investment\n",
      "13                               Gross national savings\n",
      "14                   Inflation, average consumer prices\n",
      "15                   Inflation, average consumer prices\n",
      "16             Inflation, end of period consumer prices\n",
      "17             Inflation, end of period consumer prices\n",
      "18              Volume of imports of goods and services\n",
      "19                           Volume of Imports of goods\n",
      "20              Volume of exports of goods and services\n",
      "21                           Volume of exports of goods\n",
      "22                                 Value of oil imports\n",
      "23                                 Value of oil exports\n",
      "24                                           Population\n",
      "25                           General government revenue\n",
      "26                           General government revenue\n",
      "27                 General government total expenditure\n",
      "28                 General government total expenditure\n",
      "29             General government net lending/borrowing\n",
      "30             General government net lending/borrowing\n",
      "31     General government primary net lending/borrowing\n",
      "32     General government primary net lending/borrowing\n",
      "33    Gross domestic product corresponding to fiscal...\n",
      "34                              Current account balance\n",
      "35                              Current account balance\n",
      "36                                                  NaN\n",
      "37                                                  NaN\n",
      "Name: Subject Descriptor, dtype: object 0                                     National currency\n",
      "1                                        Percent change\n",
      "2                                     National currency\n",
      "3                                          U.S. dollars\n",
      "4                                                 Index\n",
      "5                                     National currency\n",
      "6                                     National currency\n",
      "7                                          U.S. dollars\n",
      "8                          Current international dollar\n",
      "9                          Current international dollar\n",
      "10                                              Percent\n",
      "11    National currency per current international do...\n",
      "12                                       Percent of GDP\n",
      "13                                       Percent of GDP\n",
      "14                                                Index\n",
      "15                                       Percent change\n",
      "16                                                Index\n",
      "17                                       Percent change\n",
      "18                                       Percent change\n",
      "19                                       Percent change\n",
      "20                                       Percent change\n",
      "21                                       Percent change\n",
      "22                                         U.S. dollars\n",
      "23                                         U.S. dollars\n",
      "24                                              Persons\n",
      "25                                    National currency\n",
      "26                                       Percent of GDP\n",
      "27                                    National currency\n",
      "28                                       Percent of GDP\n",
      "29                                    National currency\n",
      "30                                       Percent of GDP\n",
      "31                                    National currency\n",
      "32                                       Percent of GDP\n",
      "33                                    National currency\n",
      "34                                         U.S. dollars\n",
      "35                                       Percent of GDP\n",
      "36                                                  NaN\n",
      "37                                                  NaN\n",
      "Name: Units, dtype: object\n"
     ]
    }
   ],
   "source": [
    "#Read IMF data from hard drive\n",
    "imf_data=pd.read_csv('D:/Uni-MS/DataEngineering/Project/AfghanistanIMFReport.txt', delimiter=\"\t\")\n",
    "#Deleting first and last column as country is 'Afghanistan In Most dataset' \n",
    "imf_data.pop('Estimates Start After')\n",
    "imf_data.pop('Country')\n",
    "#Printing 'Subject Descriptor' with their respective units\n",
    "print imf_data['Subject Descriptor'],imf_data['Units']\n"
   ]
  },
  {
   "cell_type": "code",
   "execution_count": 4,
   "metadata": {
    "collapsed": false
   },
   "outputs": [],
   "source": [
    "#Read data for 'us-war-costs-in-iraq-and-afghanistan' (Source:Statista data)\n",
    "data_war_spending = pd.read_excel(\"D:/Uni-MS/DataEngineering/Project/AfghanistanData/statistic_id271526_us-war-costs-in-iraq-and-afghanistan-2003-2015.xlsx\",sheetname=1)\n",
    "\n"
   ]
  },
  {
   "cell_type": "code",
   "execution_count": 111,
   "metadata": {
    "collapsed": false
   },
   "outputs": [
    {
     "name": "stderr",
     "output_type": "stream",
     "text": [
      "C:\\Anaconda2\\lib\\site-packages\\ipykernel\\__main__.py:6: FutureWarning: convert_objects is deprecated.  Use the data-type specific converters pd.to_datetime, pd.to_timedelta and pd.to_numeric.\n",
      "C:\\Anaconda2\\lib\\site-packages\\ipykernel\\__main__.py:10: FutureWarning: convert_objects is deprecated.  Use the data-type specific converters pd.to_datetime, pd.to_timedelta and pd.to_numeric.\n"
     ]
    }
   ],
   "source": [
    "#Data Frame for GDP constant prices and total investment\n",
    "\n",
    "\n",
    "imf_data['Subject Descriptor'],imf_data['Units']\n",
    "\n",
    "#Get GDP Constant Price data from IMF data and remove NA values\n",
    "gdp_constant_prices = imf_data.loc[0]\n",
    "gdp_constant_prices = gdp_constant_prices.convert_objects(convert_numeric=True).dropna()\n",
    "\n",
    "#Get Total Investment data from IMF data and remove NA values\n",
    "total_investment = imf_data.loc[12]\n",
    "total_investment = total_investment.convert_objects(convert_numeric=True).dropna()\n",
    "\n",
    "#Aggregate GDP and Total Investment data in one data structure\n",
    "d = {'GDP_constant_prices' : gdp_constant_prices,\n",
    "     'Total_investment' : total_investment}\n",
    "data = pd.DataFrame(d)\n",
    "\n",
    "#Use seaborn regex plot to plot values and save figures\n",
    "scat = seaborn.regplot(x='GDP_constant_prices',y='Total_investment',data=data)\n",
    "plt.xlabel(\"GDP constant prices (National Currency)\")\n",
    "plt.ylabel(\"Total Investment (Percernt Of GDP)\")\n",
    "plt.title(\"Scatter plot for GDP vs Total Investment In Afganistan\")\n",
    "fig=scat.get_figure()\n",
    "fig.savefig('D:/Uni-MS/DataEngineering/Project/AfghanistanData/Graphs/GDP-TotalInvestment.png')\n",
    "plt.close(fig)\n",
    "\n",
    "\n"
   ]
  },
  {
   "cell_type": "code",
   "execution_count": 99,
   "metadata": {
    "collapsed": false
   },
   "outputs": [
    {
     "name": "stderr",
     "output_type": "stream",
     "text": [
      "C:\\Anaconda2\\lib\\site-packages\\ipykernel\\__main__.py:6: FutureWarning: convert_objects is deprecated.  Use the data-type specific converters pd.to_datetime, pd.to_timedelta and pd.to_numeric.\n",
      "C:\\Anaconda2\\lib\\site-packages\\ipykernel\\__main__.py:18: FutureWarning: convert_objects is deprecated.  Use the data-type specific converters pd.to_datetime, pd.to_timedelta and pd.to_numeric.\n"
     ]
    },
    {
     "name": "stdout",
     "output_type": "stream",
     "text": [
      "      GDP_constant_prices  YEAR\n",
      "2002              185.470  2002\n",
      "2003              201.132  2003\n",
      "2004              203.255  2004\n",
      "2005              225.969  2005\n",
      "2006              238.520  2006\n",
      "2007              271.293  2007\n",
      "2008              281.090  2008\n",
      "2009              340.176  2009\n",
      "2010              368.868  2010\n",
      "2011              394.555  2011\n",
      "2012              434.855  2012\n",
      "2013              448.337  2013\n",
      "2014              469.667  2014\n",
      "2015              499.140  2015\n",
      "2016              530.007  2016\n",
      "2017              560.480  2017\n",
      "2018              587.630  2018\n"
     ]
    }
   ],
   "source": [
    "#Data Frame for GDP constant prices in different years\n",
    "\n",
    "imf_data['Subject Descriptor'],imf_data['Units']\n",
    "\n",
    "#Get GDP Constant Price data from IMF data and remove NA values\n",
    "gdp_constant_prices = imf_data.loc[0]\n",
    "gdp_constant_prices = gdp_constant_prices.convert_objects(convert_numeric=True).dropna()\n",
    "\n",
    "#Get year values \n",
    "imf_columns = imf_data.columns.values\n",
    "imf_years = [s for s in imf_columns if s.isdigit()]\n",
    "\n",
    "#Aggregate data in a data structure\n",
    "d = {'YEAR' : imf_years,\n",
    "     'GDP_constant_prices' : gdp_constant_prices}\n",
    "\n",
    "data = pd.DataFrame(d)\n",
    "data.convert_objects(convert_numeric=True)\n",
    "\n",
    "#Plot a line plot \n",
    "graph=data.plot(kind='line',x='YEAR',y='GDP_constant_prices',marker='o')\n",
    "plt.xlabel(\"YEAR\")\n",
    "plt.ylabel(\"GDP constant prices (National Currency)\")\n",
    "plt.title(\"Plot for GDP In Afganistan with predicted values\")\n",
    "fig=graph.get_figure()\n",
    "fig.savefig('D:/Uni-MS/DataEngineering/Project/AfghanistanData/Graphs/GDP-By-Year.png')\n",
    "plt.close(fig)"
   ]
  },
  {
   "cell_type": "code",
   "execution_count": 113,
   "metadata": {
    "collapsed": false
   },
   "outputs": [
    {
     "name": "stdout",
     "output_type": "stream",
     "text": [
      "   Year   Iraq  Afghanistan  data\n",
      "0  2007  131.2         39.2  1122\n",
      "1  2008  142.1         43.5  1219\n",
      "2  2009   95.5         59.5  2124\n",
      "3  2010   65.1        106.6  3346\n",
      "4  2011   47.4        122.0  2872\n",
      "5  2012   10.1        111.1  1023\n",
      "6  2013    7.2         91.5  1149\n",
      "7  2014    3.2         88.3  1591\n"
     ]
    }
   ],
   "source": [
    "#Regression plot for US Cost vs Terror Attacks In Afganistan\n",
    "\n",
    "#Read data for 'us-war-costs-in-iraq-and-afghanistan' (Source:Statista data)\n",
    "data_war_spending = pd.read_excel(\"D:/Uni-MS/DataEngineering/Project/AfghanistanData/statistic_id271526_us-war-costs-in-iraq-and-afghanistan-2003-2015.xlsx\",sheetname=1)\n",
    "#Read data for 'Terror attacks in afghanistan with diferent years' (Source:Statista data)\n",
    "terror_attacks = pd.read_excel(\"D:/Uni-MS/DataEngineering/Project/AfghanistanData/statistic_id250566_terrorism---attacks-in-afghanistan-2007-2014.xlsx\",sheetname=1)\n",
    "\n",
    "#Merge data on year as primary element\n",
    "data = pd.merge(data_war_spending,terror_attacks,  on='Year')\n",
    "print data\n",
    "\n",
    "#Regression plot on merged data\n",
    "scat = seaborn.regplot(x='data',y='Afghanistan',data=data)\n",
    "plt.xlabel(\"Number of Terrorist Attack in Afghanistan\")\n",
    "plt.ylabel(\"US war cost in billion US dollar \")\n",
    "plt.title(\"Regression plot for US Cost vs Terror Attacks In Afganistan\")\n",
    "fig=scat.get_figure()\n",
    "fig.savefig('D:/Uni-MS/DataEngineering/Project/AfghanistanData/Graphs/WarCost-TerrorATtacks-ByYear.png')\n",
    "plt.close(fig)\n",
    "\n",
    "\n",
    "\n"
   ]
  },
  {
   "cell_type": "code",
   "execution_count": 5,
   "metadata": {
    "collapsed": false
   },
   "outputs": [
    {
     "name": "stdout",
     "output_type": "stream",
     "text": [
      "   Year   Iraq  Afghanistan  data\n",
      "0  2007  131.2         39.2  1122\n",
      "1  2008  142.1         43.5  1219\n",
      "2  2009   95.5         59.5  2124\n",
      "3  2010   65.1        106.6  3346\n",
      "4  2011   47.4        122.0  2872\n",
      "5  2012   10.1        111.1  1023\n",
      "6  2013    7.2         91.5  1149\n",
      "7  2014    3.2         88.3  1591\n"
     ]
    }
   ],
   "source": [
    "#Line plot for for US Cost and Terror Attacks In Afganistan\n",
    "\n",
    "#Read data for 'us-war-costs-in-iraq-and-afghanistan' (Source:Statista data)\n",
    "data_war_spending = pd.read_excel(\"D:/Uni-MS/DataEngineering/Project/AfghanistanData/statistic_id271526_us-war-costs-in-iraq-and-afghanistan-2003-2015.xlsx\",sheetname=1)\n",
    "#Read data for 'Terror attack in Afghanistan' (Source:Statista data)\n",
    "terror_attacks = pd.read_excel(\"D:/Uni-MS/DataEngineering/Project/AfghanistanData/statistic_id250566_terrorism---attacks-in-afghanistan-2007-2014.xlsx\",sheetname=1)\n",
    "\n",
    "#Merge data on year\n",
    "data = pd.merge(data_war_spending,terror_attacks,  on='Year')\n",
    "print data\n",
    "\n",
    "\n",
    "fig = plt.figure() # Create matplotlib figure\n",
    "\n",
    "ax = fig.add_subplot(111) # Create matplotlib axes\n",
    "ax2 = ax.twinx() # Create another axes that shares the same x-axis as ax.\n",
    "\n",
    "#Plot line plots for US War cost and terror attacks\n",
    "data['Afghanistan'].plot(kind='line', marker='o',ax=ax,color ='Green')\n",
    "data['data'].plot(kind='line', marker='o',ax=ax2,color ='Red')\n",
    "\n",
    "\n",
    "\n",
    "ax.set_ylabel('US war Cost')\n",
    "ax2.set_ylabel('Terror Attacks')\n",
    "ax.legend([' War Cost '], loc='upper left')\n",
    "ax2.legend([' Terror Attacks '], loc='upper right')\n",
    "plt.xlabel(\"YEARS\")\n",
    "plt.title(\"Line plot for for US Cost and Terror Attacks In Afganistan\")\n",
    "ax.ticklabel_format(useOffset=False)\n",
    "plt.savefig('D:/Uni-MS/DataEngineering/Project/AfghanistanData/WarCost-TerrorATtacks-ByYear-LinePlot.png')\n"
   ]
  },
  {
   "cell_type": "code",
   "execution_count": null,
   "metadata": {
    "collapsed": true
   },
   "outputs": [],
   "source": []
  },
  {
   "cell_type": "code",
   "execution_count": null,
   "metadata": {
    "collapsed": true
   },
   "outputs": [],
   "source": []
  }
 ],
 "metadata": {
  "kernelspec": {
   "display_name": "Python 2",
   "language": "python",
   "name": "python2"
  },
  "language_info": {
   "codemirror_mode": {
    "name": "ipython",
    "version": 2
   },
   "file_extension": ".py",
   "mimetype": "text/x-python",
   "name": "python",
   "nbconvert_exporter": "python",
   "pygments_lexer": "ipython2",
   "version": "2.7.11"
  }
 },
 "nbformat": 4,
 "nbformat_minor": 0
}
